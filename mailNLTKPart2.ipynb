{
 "cells": [
  {
   "cell_type": "code",
   "execution_count": 1,
   "metadata": {},
   "outputs": [],
   "source": [
    "import win32com.client\n",
    "import pandas as pd\n",
    "import numpy as np\n",
    "import matplotlib.pyplot as plt\n",
    "import seaborn as sns\n",
    "import scipy as sp\n",
    "import csv\n",
    "import nltk"
   ]
  },
  {
   "cell_type": "code",
   "execution_count": null,
   "metadata": {},
   "outputs": [],
   "source": [
    "'''#tokenizing \n",
    "nltk.download('punkt')\n",
    "#POS Tagging\n",
    "nltk.download('averaged_perceptron_tagger')\n",
    "#universalTagging\n",
    "nltk.download('universal_tagset')\n",
    "#chunking\n",
    "nltk.download('maxent_ne_chunker')\n",
    "#words\n",
    "nltk.download('words')'''"
   ]
  },
  {
   "cell_type": "code",
   "execution_count": 2,
   "metadata": {},
   "outputs": [],
   "source": [
    "mail=pd.read_csv(\"Rajat_NLTK.csv\")"
   ]
  },
  {
   "cell_type": "code",
   "execution_count": 3,
   "metadata": {},
   "outputs": [
    {
     "data": {
      "text/html": [
       "<div>\n",
       "<style scoped>\n",
       "    .dataframe tbody tr th:only-of-type {\n",
       "        vertical-align: middle;\n",
       "    }\n",
       "\n",
       "    .dataframe tbody tr th {\n",
       "        vertical-align: top;\n",
       "    }\n",
       "\n",
       "    .dataframe thead th {\n",
       "        text-align: right;\n",
       "    }\n",
       "</style>\n",
       "<table border=\"1\" class=\"dataframe\">\n",
       "  <thead>\n",
       "    <tr style=\"text-align: right;\">\n",
       "      <th></th>\n",
       "      <th>Unnamed: 0</th>\n",
       "      <th>SrNo</th>\n",
       "      <th>Subject</th>\n",
       "      <th>Message</th>\n",
       "      <th>Recipients</th>\n",
       "      <th>Sender</th>\n",
       "      <th>Time</th>\n",
       "      <th>SubLen</th>\n",
       "      <th>MsgLen</th>\n",
       "      <th>MsgTokens</th>\n",
       "      <th>MsgSentenceTokens</th>\n",
       "      <th>POS_Msg</th>\n",
       "      <th>POS_Msg_Noun</th>\n",
       "      <th>Chunked</th>\n",
       "      <th>POS_Msg_Uni</th>\n",
       "    </tr>\n",
       "  </thead>\n",
       "  <tbody>\n",
       "    <tr>\n",
       "      <th>0</th>\n",
       "      <td>0</td>\n",
       "      <td>0</td>\n",
       "      <td>RE: Rental laptops 5nos issued at TIS helpdesk.</td>\n",
       "      <td>i've collected the 2 laptops. the laptop assig...</td>\n",
       "      <td>['Rajat.Chaudhari@mastek.com', 'assetMGMT@mast...</td>\n",
       "      <td>Sujeetkumar Sinha</td>\n",
       "      <td>2018-02-16 13:55:46+00:00</td>\n",
       "      <td>48</td>\n",
       "      <td>277</td>\n",
       "      <td>['i', 'collected', 'the', 'laptops', 'the', 'l...</td>\n",
       "      <td>[\"i've collected the 2 laptops.\", 'the laptop ...</td>\n",
       "      <td>[('i', 'NN'), ('collected', 'VBD'), ('the', 'D...</td>\n",
       "      <td>['i', 'laptops', 'laptop', 'i', 'back', 'scree...</td>\n",
       "      <td>[('i', 'NN'), ('collected', 'VBD'), ('the', 'D...</td>\n",
       "      <td>[('i', 'NOUN'), ('collected', 'VERB'), ('the',...</td>\n",
       "    </tr>\n",
       "    <tr>\n",
       "      <th>1</th>\n",
       "      <td>1</td>\n",
       "      <td>1</td>\n",
       "      <td>RE: Can Delhi be cancelled?</td>\n",
       "      <td>looping joel. \\r\\r\\r\\n\\r\\r\\r\\n \\r\\r\\r\\n\\r\\r\\r\\...</td>\n",
       "      <td>['Pooja.Nagar@mastek.com', 'Rajat.Chaudhari@ma...</td>\n",
       "      <td>Faheem A Siddiqui</td>\n",
       "      <td>2018-02-16 12:58:23+00:00</td>\n",
       "      <td>27</td>\n",
       "      <td>52</td>\n",
       "      <td>['looping', 'joel', 'thanks', 'and']</td>\n",
       "      <td>['looping joel.', 'thanks and']</td>\n",
       "      <td>[('looping', 'VBG'), ('joel', 'NN'), ('thanks'...</td>\n",
       "      <td>['joel', 'thanks']</td>\n",
       "      <td>[('looping', 'VBG'), ('joel', 'NN'), ('thanks'...</td>\n",
       "      <td>[('looping', 'VERB'), ('joel', 'NOUN'), ('than...</td>\n",
       "    </tr>\n",
       "  </tbody>\n",
       "</table>\n",
       "</div>"
      ],
      "text/plain": [
       "   Unnamed: 0  SrNo                                           Subject  \\\n",
       "0           0     0  RE: Rental laptops 5nos issued at TIS helpdesk.    \n",
       "1           1     1                       RE: Can Delhi be cancelled?   \n",
       "\n",
       "                                             Message  \\\n",
       "0  i've collected the 2 laptops. the laptop assig...   \n",
       "1  looping joel. \\r\\r\\r\\n\\r\\r\\r\\n \\r\\r\\r\\n\\r\\r\\r\\...   \n",
       "\n",
       "                                          Recipients             Sender  \\\n",
       "0  ['Rajat.Chaudhari@mastek.com', 'assetMGMT@mast...  Sujeetkumar Sinha   \n",
       "1  ['Pooja.Nagar@mastek.com', 'Rajat.Chaudhari@ma...  Faheem A Siddiqui   \n",
       "\n",
       "                        Time  SubLen  MsgLen  \\\n",
       "0  2018-02-16 13:55:46+00:00      48     277   \n",
       "1  2018-02-16 12:58:23+00:00      27      52   \n",
       "\n",
       "                                           MsgTokens  \\\n",
       "0  ['i', 'collected', 'the', 'laptops', 'the', 'l...   \n",
       "1               ['looping', 'joel', 'thanks', 'and']   \n",
       "\n",
       "                                   MsgSentenceTokens  \\\n",
       "0  [\"i've collected the 2 laptops.\", 'the laptop ...   \n",
       "1                    ['looping joel.', 'thanks and']   \n",
       "\n",
       "                                             POS_Msg  \\\n",
       "0  [('i', 'NN'), ('collected', 'VBD'), ('the', 'D...   \n",
       "1  [('looping', 'VBG'), ('joel', 'NN'), ('thanks'...   \n",
       "\n",
       "                                        POS_Msg_Noun  \\\n",
       "0  ['i', 'laptops', 'laptop', 'i', 'back', 'scree...   \n",
       "1                                 ['joel', 'thanks']   \n",
       "\n",
       "                                             Chunked  \\\n",
       "0  [('i', 'NN'), ('collected', 'VBD'), ('the', 'D...   \n",
       "1  [('looping', 'VBG'), ('joel', 'NN'), ('thanks'...   \n",
       "\n",
       "                                         POS_Msg_Uni  \n",
       "0  [('i', 'NOUN'), ('collected', 'VERB'), ('the',...  \n",
       "1  [('looping', 'VERB'), ('joel', 'NOUN'), ('than...  "
      ]
     },
     "execution_count": 3,
     "metadata": {},
     "output_type": "execute_result"
    }
   ],
   "source": [
    "mail.head(2)"
   ]
  },
  {
   "cell_type": "code",
   "execution_count": 6,
   "metadata": {},
   "outputs": [],
   "source": [
    "negative=[]\n",
    "nwords=pd.read_csv(\"words-negative.csv\")\n",
    "for word in nwords.iterrows():\n",
    "    negative.append(word)"
   ]
  },
  {
   "cell_type": "code",
   "execution_count": 7,
   "metadata": {},
   "outputs": [],
   "source": [
    "positive=[]\n",
    "pwords=pd.read_csv(\"words-positive.csv\")\n",
    "for word in pwords.iterrows():\n",
    "    positive.append(word)"
   ]
  },
  {
   "cell_type": "code",
   "execution_count": 8,
   "metadata": {},
   "outputs": [],
   "source": [
    "def sentiment(text):\n",
    "    temp=[]\n",
    "    ncount=0\n",
    "    pcount=0\n",
    "    for word in text:\n",
    "        for item in positive:\n",
    "            if(word==item[0]):\n",
    "                pcount +=1\n",
    "        for item in negative:\n",
    "            if(word==item[0]):\n",
    "                ncount +=1\n",
    "    if(pcount>0 and ncount==0):\n",
    "        temp.append(1)\n",
    "    elif(ncount%2>0):\n",
    "        temp.append(-1)\n",
    "    elif(ncount%2==0 and ncount==0):\n",
    "        temp.append(1)\n",
    "    else:\n",
    "        temp.append(0)\n",
    "    return temp    "
   ]
  },
  {
   "cell_type": "code",
   "execution_count": 9,
   "metadata": {},
   "outputs": [],
   "source": [
    "mail[\"Sentiments\"]=mail[\"MsgTokens\"].apply(lambda x: np.average(sentiment(x))) "
   ]
  },
  {
   "cell_type": "code",
   "execution_count": 10,
   "metadata": {},
   "outputs": [
    {
     "data": {
      "text/html": [
       "<div>\n",
       "<style scoped>\n",
       "    .dataframe tbody tr th:only-of-type {\n",
       "        vertical-align: middle;\n",
       "    }\n",
       "\n",
       "    .dataframe tbody tr th {\n",
       "        vertical-align: top;\n",
       "    }\n",
       "\n",
       "    .dataframe thead th {\n",
       "        text-align: right;\n",
       "    }\n",
       "</style>\n",
       "<table border=\"1\" class=\"dataframe\">\n",
       "  <thead>\n",
       "    <tr style=\"text-align: right;\">\n",
       "      <th></th>\n",
       "      <th>Unnamed: 0</th>\n",
       "      <th>SrNo</th>\n",
       "      <th>Subject</th>\n",
       "      <th>Message</th>\n",
       "      <th>Recipients</th>\n",
       "      <th>Sender</th>\n",
       "      <th>Time</th>\n",
       "      <th>SubLen</th>\n",
       "      <th>MsgLen</th>\n",
       "      <th>MsgTokens</th>\n",
       "      <th>MsgSentenceTokens</th>\n",
       "      <th>POS_Msg</th>\n",
       "      <th>POS_Msg_Noun</th>\n",
       "      <th>Chunked</th>\n",
       "      <th>POS_Msg_Uni</th>\n",
       "      <th>Sentiments</th>\n",
       "    </tr>\n",
       "  </thead>\n",
       "  <tbody>\n",
       "    <tr>\n",
       "      <th>0</th>\n",
       "      <td>0</td>\n",
       "      <td>0</td>\n",
       "      <td>RE: Rental laptops 5nos issued at TIS helpdesk.</td>\n",
       "      <td>i've collected the 2 laptops. the laptop assig...</td>\n",
       "      <td>['Rajat.Chaudhari@mastek.com', 'assetMGMT@mast...</td>\n",
       "      <td>Sujeetkumar Sinha</td>\n",
       "      <td>2018-02-16 13:55:46+00:00</td>\n",
       "      <td>48</td>\n",
       "      <td>277</td>\n",
       "      <td>['i', 'collected', 'the', 'laptops', 'the', 'l...</td>\n",
       "      <td>[\"i've collected the 2 laptops.\", 'the laptop ...</td>\n",
       "      <td>[('i', 'NN'), ('collected', 'VBD'), ('the', 'D...</td>\n",
       "      <td>['i', 'laptops', 'laptop', 'i', 'back', 'scree...</td>\n",
       "      <td>[('i', 'NN'), ('collected', 'VBD'), ('the', 'D...</td>\n",
       "      <td>[('i', 'NOUN'), ('collected', 'VERB'), ('the',...</td>\n",
       "      <td>1.0</td>\n",
       "    </tr>\n",
       "    <tr>\n",
       "      <th>1</th>\n",
       "      <td>1</td>\n",
       "      <td>1</td>\n",
       "      <td>RE: Can Delhi be cancelled?</td>\n",
       "      <td>looping joel. \\r\\r\\r\\n\\r\\r\\r\\n \\r\\r\\r\\n\\r\\r\\r\\...</td>\n",
       "      <td>['Pooja.Nagar@mastek.com', 'Rajat.Chaudhari@ma...</td>\n",
       "      <td>Faheem A Siddiqui</td>\n",
       "      <td>2018-02-16 12:58:23+00:00</td>\n",
       "      <td>27</td>\n",
       "      <td>52</td>\n",
       "      <td>['looping', 'joel', 'thanks', 'and']</td>\n",
       "      <td>['looping joel.', 'thanks and']</td>\n",
       "      <td>[('looping', 'VBG'), ('joel', 'NN'), ('thanks'...</td>\n",
       "      <td>['joel', 'thanks']</td>\n",
       "      <td>[('looping', 'VBG'), ('joel', 'NN'), ('thanks'...</td>\n",
       "      <td>[('looping', 'VERB'), ('joel', 'NOUN'), ('than...</td>\n",
       "      <td>1.0</td>\n",
       "    </tr>\n",
       "  </tbody>\n",
       "</table>\n",
       "</div>"
      ],
      "text/plain": [
       "   Unnamed: 0  SrNo                                           Subject  \\\n",
       "0           0     0  RE: Rental laptops 5nos issued at TIS helpdesk.    \n",
       "1           1     1                       RE: Can Delhi be cancelled?   \n",
       "\n",
       "                                             Message  \\\n",
       "0  i've collected the 2 laptops. the laptop assig...   \n",
       "1  looping joel. \\r\\r\\r\\n\\r\\r\\r\\n \\r\\r\\r\\n\\r\\r\\r\\...   \n",
       "\n",
       "                                          Recipients             Sender  \\\n",
       "0  ['Rajat.Chaudhari@mastek.com', 'assetMGMT@mast...  Sujeetkumar Sinha   \n",
       "1  ['Pooja.Nagar@mastek.com', 'Rajat.Chaudhari@ma...  Faheem A Siddiqui   \n",
       "\n",
       "                        Time  SubLen  MsgLen  \\\n",
       "0  2018-02-16 13:55:46+00:00      48     277   \n",
       "1  2018-02-16 12:58:23+00:00      27      52   \n",
       "\n",
       "                                           MsgTokens  \\\n",
       "0  ['i', 'collected', 'the', 'laptops', 'the', 'l...   \n",
       "1               ['looping', 'joel', 'thanks', 'and']   \n",
       "\n",
       "                                   MsgSentenceTokens  \\\n",
       "0  [\"i've collected the 2 laptops.\", 'the laptop ...   \n",
       "1                    ['looping joel.', 'thanks and']   \n",
       "\n",
       "                                             POS_Msg  \\\n",
       "0  [('i', 'NN'), ('collected', 'VBD'), ('the', 'D...   \n",
       "1  [('looping', 'VBG'), ('joel', 'NN'), ('thanks'...   \n",
       "\n",
       "                                        POS_Msg_Noun  \\\n",
       "0  ['i', 'laptops', 'laptop', 'i', 'back', 'scree...   \n",
       "1                                 ['joel', 'thanks']   \n",
       "\n",
       "                                             Chunked  \\\n",
       "0  [('i', 'NN'), ('collected', 'VBD'), ('the', 'D...   \n",
       "1  [('looping', 'VBG'), ('joel', 'NN'), ('thanks'...   \n",
       "\n",
       "                                         POS_Msg_Uni  Sentiments  \n",
       "0  [('i', 'NOUN'), ('collected', 'VERB'), ('the',...         1.0  \n",
       "1  [('looping', 'VERB'), ('joel', 'NOUN'), ('than...         1.0  "
      ]
     },
     "execution_count": 10,
     "metadata": {},
     "output_type": "execute_result"
    }
   ],
   "source": [
    "mail.head(2)"
   ]
  },
  {
   "cell_type": "code",
   "execution_count": 11,
   "metadata": {},
   "outputs": [],
   "source": []
  },
  {
   "cell_type": "code",
   "execution_count": 27,
   "metadata": {},
   "outputs": [],
   "source": []
  },
  {
   "cell_type": "code",
   "execution_count": null,
   "metadata": {},
   "outputs": [],
   "source": []
  },
  {
   "cell_type": "code",
   "execution_count": null,
   "metadata": {},
   "outputs": [],
   "source": []
  },
  {
   "cell_type": "code",
   "execution_count": null,
   "metadata": {},
   "outputs": [],
   "source": []
  },
  {
   "cell_type": "code",
   "execution_count": null,
   "metadata": {},
   "outputs": [],
   "source": []
  },
  {
   "cell_type": "code",
   "execution_count": null,
   "metadata": {},
   "outputs": [],
   "source": []
  },
  {
   "cell_type": "markdown",
   "metadata": {},
   "source": [
    "# rough work"
   ]
  },
  {
   "cell_type": "code",
   "execution_count": 13,
   "metadata": {},
   "outputs": [
    {
     "name": "stdout",
     "output_type": "stream",
     "text": [
      "[nltk_data] Downloading package book_grammars to\n",
      "[nltk_data]     C:\\Users\\rajat13440\\AppData\\Roaming\\nltk_data...\n",
      "[nltk_data]   Unzipping grammars\\book_grammars.zip.\n"
     ]
    },
    {
     "data": {
      "text/plain": [
       "True"
      ]
     },
     "execution_count": 13,
     "metadata": {},
     "output_type": "execute_result"
    }
   ],
   "source": [
    "nltk.download('book_grammars')"
   ]
  },
  {
   "cell_type": "code",
   "execution_count": 14,
   "metadata": {},
   "outputs": [
    {
     "name": "stdout",
     "output_type": "stream",
     "text": [
      "% start S\n",
      "S[SEM=(?np + WHERE + ?vp)] -> NP[SEM=?np] VP[SEM=?vp]\n",
      "VP[SEM=(?v + ?pp)] -> IV[SEM=?v] PP[SEM=?pp]\n",
      "VP[SEM=(?v + ?ap)] -> IV[SEM=?v] AP[SEM=?ap]\n",
      "NP[SEM=(?det + ?n)] -> Det[SEM=?det] N[SEM=?n]\n",
      "PP[SEM=(?p + ?np)] -> P[SEM=?p] NP[SEM=?np]\n",
      "AP[SEM=?pp] -> A[SEM=?a] PP[SEM=?pp]\n",
      "NP[SEM='Country=\"greece\"'] -> 'Greece'\n",
      "NP[SEM='Country=\"china\"'] -> 'China'\n",
      "Det[SEM='SELECT'] -> 'Which' | 'What'\n",
      "N[SEM='City FROM city_table'] -> 'cities'\n",
      "IV[SEM=''] -> 'are'\n",
      "A[SEM=''] -> 'located'\n",
      "P[SEM=''] -> 'in'\n"
     ]
    }
   ],
   "source": [
    "nltk.data.show_cfg('grammars/book_grammars/sql0.fcfg')"
   ]
  },
  {
   "cell_type": "code",
   "execution_count": 16,
   "metadata": {},
   "outputs": [
    {
     "name": "stdout",
     "output_type": "stream",
     "text": [
      "SELECT City FROM city_table WHERE Country=\"china\"\n"
     ]
    }
   ],
   "source": [
    "from nltk import load_parser\n",
    "cp = load_parser('grammars/book_grammars/sql0.fcfg')\n",
    "query = 'What cities are located in China'\n",
    "trees = list(cp.parse(query.split()))\n",
    "answer = trees[0].label()['SEM']\n",
    "answer = [s for s in answer if s]\n",
    "q = ' '.join(answer)\n",
    "print(q)\n"
   ]
  },
  {
   "cell_type": "code",
   "execution_count": 28,
   "metadata": {},
   "outputs": [
    {
     "data": {
      "text/plain": [
       "[Tree(S[SEM=(SELECT, City FROM city_table, WHERE, , , Country=\"china\")], [Tree(NP[SEM=(SELECT, City FROM city_table)], [Tree(Det[SEM='SELECT'], ['What']), Tree(N[SEM='City FROM city_table'], ['cities'])]), Tree(VP[SEM=(, , Country=\"china\")], [Tree(IV[SEM=''], ['are']), Tree(AP[SEM=(, Country=\"china\")], [Tree(A[SEM=''], ['located']), Tree(PP[SEM=(, Country=\"china\")], [Tree(P[SEM=''], ['in']), Tree(NP[SEM='Country=\"china\"'], ['China'])])])])])]"
      ]
     },
     "execution_count": 28,
     "metadata": {},
     "output_type": "execute_result"
    }
   ],
   "source": [
    "trees"
   ]
  },
  {
   "cell_type": "code",
   "execution_count": 34,
   "metadata": {},
   "outputs": [
    {
     "data": {
      "text/plain": [
       "(SELECT, City FROM city_table, WHERE, , , Country=\"china\")"
      ]
     },
     "execution_count": 34,
     "metadata": {},
     "output_type": "execute_result"
    }
   ],
   "source": []
  },
  {
   "cell_type": "code",
   "execution_count": 155,
   "metadata": {},
   "outputs": [
    {
     "data": {
      "text/plain": [
       "\"i've collected the 2 laptops. the laptop assigned to me is working fine, however i noticed that the back of the screen is all scratched and has a dent in one spot. below is the pic of the same. just wanted to highlight this to avoid any issues later.\\r\\r\\r\\n\\r\\r\\r\\n\\r\\r\\r\\n\\r\\r\\r\\n\\r\\r\\r\\n\\r\\r\\r\\n\\r\\r\\r\\n\\r\\r\\r\\n\\r\\r\\r\\n\""
      ]
     },
     "execution_count": 155,
     "metadata": {},
     "output_type": "execute_result"
    }
   ],
   "source": [
    "mail[[\"Subject\",\"Message\"]]"
   ]
  },
  {
   "cell_type": "code",
   "execution_count": null,
   "metadata": {},
   "outputs": [],
   "source": []
  },
  {
   "cell_type": "code",
   "execution_count": 18,
   "metadata": {},
   "outputs": [
    {
     "name": "stdout",
     "output_type": "stream",
     "text": [
      "[nltk_data] Downloading package city_database to\n",
      "[nltk_data]     C:\\Users\\rajat13440\\AppData\\Roaming\\nltk_data...\n",
      "[nltk_data]   Unzipping corpora\\city_database.zip.\n"
     ]
    },
    {
     "data": {
      "text/plain": [
       "True"
      ]
     },
     "execution_count": 18,
     "metadata": {},
     "output_type": "execute_result"
    }
   ],
   "source": [
    "nltk.download('city_database')"
   ]
  },
  {
   "cell_type": "code",
   "execution_count": 20,
   "metadata": {},
   "outputs": [],
   "source": [
    "from nltk.sem import chat80\n",
    "rows = chat80.sql_query('corpora/city_database/city.db', q)\n"
   ]
  },
  {
   "cell_type": "code",
   "execution_count": 22,
   "metadata": {},
   "outputs": [
    {
     "name": "stdout",
     "output_type": "stream",
     "text": [
      "chungking dairen harbin kowloon mukden peking shanghai sian tientsin "
     ]
    }
   ],
   "source": [
    "for r in rows: print(r[0], end=\" \")"
   ]
  },
  {
   "cell_type": "code",
   "execution_count": null,
   "metadata": {},
   "outputs": [],
   "source": []
  },
  {
   "cell_type": "code",
   "execution_count": 56,
   "metadata": {},
   "outputs": [],
   "source": [
    "test=mail[\"MsgTokens\"][100]"
   ]
  },
  {
   "cell_type": "code",
   "execution_count": null,
   "metadata": {},
   "outputs": [],
   "source": [
    "nltk.chunk.ne_chunk(test.split())"
   ]
  },
  {
   "cell_type": "code",
   "execution_count": 39,
   "metadata": {},
   "outputs": [
    {
     "data": {
      "text/plain": [
       "\"[('i', 'NN'), ('collected', 'VBD'), ('the', 'DT'), ('laptops', 'NNS'), ('the', 'DT'), ('laptop', 'NN'), ('assigned', 'VBD'), ('to', 'TO'), ('me', 'PRP'), ('is', 'VBZ'), ('working', 'VBG'), ('fine', 'JJ'), ('however', 'RB'), ('i', 'NN'), ('noticed', 'VBD'), ('that', 'IN'), ('the', 'DT'), ('back', 'NN'), ('of', 'IN'), ('the', 'DT'), ('screen', 'NN'), ('is', 'VBZ'), ('all', 'DT'), ('scratched', 'VBN'), ('and', 'CC'), ('has', 'VBZ'), ('a', 'DT'), ('dent', 'NN'), ('in', 'IN'), ('one', 'CD'), ('spot', 'NN'), ('below', 'NN'), ('is', 'VBZ'), ('the', 'DT'), ('pic', 'NN'), ('of', 'IN'), ('the', 'DT'), ('same', 'JJ'), ('just', 'RB'), ('wanted', 'VBD'), ('to', 'TO'), ('highlight', 'VB'), ('this', 'DT'), ('to', 'TO'), ('avoid', 'VB'), ('any', 'DT'), ('issues', 'NNS'), ('later', 'RBR')]\""
      ]
     },
     "execution_count": 39,
     "metadata": {},
     "output_type": "execute_result"
    }
   ],
   "source": [
    "mail[\"POS_Msg\"][0]"
   ]
  },
  {
   "cell_type": "markdown",
   "metadata": {},
   "source": [
    "# scikit"
   ]
  },
  {
   "cell_type": "code",
   "execution_count": 149,
   "metadata": {},
   "outputs": [],
   "source": [
    "from sklearn.feature_extraction.text import CountVectorizer,TfidfVectorizer"
   ]
  },
  {
   "cell_type": "code",
   "execution_count": 150,
   "metadata": {},
   "outputs": [],
   "source": [
    "countVect=CountVectorizer()\n",
    "tfidfVect=TfidfVectorizer()"
   ]
  },
  {
   "cell_type": "code",
   "execution_count": 156,
   "metadata": {},
   "outputs": [],
   "source": [
    "train=mail[[\"Subject\",\"Message\"]]"
   ]
  },
  {
   "cell_type": "code",
   "execution_count": 157,
   "metadata": {},
   "outputs": [
    {
     "data": {
      "text/plain": [
       "CountVectorizer(analyzer='word', binary=False, decode_error='strict',\n",
       "        dtype=<class 'numpy.int64'>, encoding='utf-8', input='content',\n",
       "        lowercase=True, max_df=1.0, max_features=None, min_df=1,\n",
       "        ngram_range=(1, 1), preprocessor=None, stop_words=None,\n",
       "        strip_accents=None, token_pattern='(?u)\\\\b\\\\w\\\\w+\\\\b',\n",
       "        tokenizer=None, vocabulary=None)"
      ]
     },
     "execution_count": 157,
     "metadata": {},
     "output_type": "execute_result"
    }
   ],
   "source": [
    "count_vect.fit(train)"
   ]
  },
  {
   "cell_type": "code",
   "execution_count": 158,
   "metadata": {},
   "outputs": [
    {
     "name": "stdout",
     "output_type": "stream",
     "text": [
      "{'subject': 1, 'message': 0}\n"
     ]
    }
   ],
   "source": [
    "print(count_vect.vocabulary_)\n",
    "# encode document\n"
   ]
  },
  {
   "cell_type": "code",
   "execution_count": 166,
   "metadata": {},
   "outputs": [],
   "source": [
    "count_vect=count_vect.transform(train)"
   ]
  },
  {
   "cell_type": "code",
   "execution_count": 170,
   "metadata": {},
   "outputs": [
    {
     "data": {
      "text/plain": [
       "(2, 2)"
      ]
     },
     "execution_count": 170,
     "metadata": {},
     "output_type": "execute_result"
    }
   ],
   "source": [
    "count_vect.shape"
   ]
  },
  {
   "cell_type": "code",
   "execution_count": 172,
   "metadata": {},
   "outputs": [
    {
     "name": "stdout",
     "output_type": "stream",
     "text": [
      "<class 'scipy.sparse.csr.csr_matrix'>\n"
     ]
    }
   ],
   "source": [
    "print(type(count_vect))"
   ]
  },
  {
   "cell_type": "code",
   "execution_count": 173,
   "metadata": {},
   "outputs": [
    {
     "name": "stdout",
     "output_type": "stream",
     "text": [
      "[[0 1]\n",
      " [1 0]]\n"
     ]
    }
   ],
   "source": [
    "print(count_vect.toarray())"
   ]
  },
  {
   "cell_type": "code",
   "execution_count": null,
   "metadata": {},
   "outputs": [],
   "source": [
    "vector = vectorizer.transform(text)\n",
    "# summarize encoded vector\n",
    "print(vector.shape)\n",
    "print(type(vector))\n",
    "print(vector.toarray())"
   ]
  },
  {
   "cell_type": "code",
   "execution_count": 178,
   "metadata": {},
   "outputs": [
    {
     "data": {
      "text/html": [
       "<div>\n",
       "<style scoped>\n",
       "    .dataframe tbody tr th:only-of-type {\n",
       "        vertical-align: middle;\n",
       "    }\n",
       "\n",
       "    .dataframe tbody tr th {\n",
       "        vertical-align: top;\n",
       "    }\n",
       "\n",
       "    .dataframe thead th {\n",
       "        text-align: right;\n",
       "    }\n",
       "</style>\n",
       "<table border=\"1\" class=\"dataframe\">\n",
       "  <thead>\n",
       "    <tr style=\"text-align: right;\">\n",
       "      <th></th>\n",
       "      <th>Unnamed: 0</th>\n",
       "      <th>SrNo</th>\n",
       "      <th>Subject</th>\n",
       "      <th>Message</th>\n",
       "      <th>Recipients</th>\n",
       "      <th>Sender</th>\n",
       "      <th>Time</th>\n",
       "      <th>SubLen</th>\n",
       "      <th>MsgLen</th>\n",
       "      <th>MsgTokens</th>\n",
       "      <th>MsgSentenceTokens</th>\n",
       "      <th>POS_Msg</th>\n",
       "      <th>POS_Msg_Noun</th>\n",
       "      <th>Chunked</th>\n",
       "      <th>POS_Msg_Uni</th>\n",
       "      <th>Sentiments</th>\n",
       "    </tr>\n",
       "  </thead>\n",
       "  <tbody>\n",
       "    <tr>\n",
       "      <th>0</th>\n",
       "      <td>0</td>\n",
       "      <td>0</td>\n",
       "      <td>RE: Rental laptops 5nos issued at TIS helpdesk.</td>\n",
       "      <td>i've collected the 2 laptops. the laptop assig...</td>\n",
       "      <td>['Rajat.Chaudhari@mastek.com', 'assetMGMT@mast...</td>\n",
       "      <td>Sujeetkumar Sinha</td>\n",
       "      <td>2018-02-16 13:55:46+00:00</td>\n",
       "      <td>48</td>\n",
       "      <td>277</td>\n",
       "      <td>['i', 'collected', 'the', 'laptops', 'the', 'l...</td>\n",
       "      <td>[\"i've collected the 2 laptops.\", 'the laptop ...</td>\n",
       "      <td>[('i', 'NN'), ('collected', 'VBD'), ('the', 'D...</td>\n",
       "      <td>['i', 'laptops', 'laptop', 'i', 'back', 'scree...</td>\n",
       "      <td>[('i', 'NN'), ('collected', 'VBD'), ('the', 'D...</td>\n",
       "      <td>[('i', 'NOUN'), ('collected', 'VERB'), ('the',...</td>\n",
       "      <td>1.0</td>\n",
       "    </tr>\n",
       "    <tr>\n",
       "      <th>1</th>\n",
       "      <td>1</td>\n",
       "      <td>1</td>\n",
       "      <td>RE: Can Delhi be cancelled?</td>\n",
       "      <td>looping joel. \\r\\r\\r\\n\\r\\r\\r\\n \\r\\r\\r\\n\\r\\r\\r\\...</td>\n",
       "      <td>['Pooja.Nagar@mastek.com', 'Rajat.Chaudhari@ma...</td>\n",
       "      <td>Faheem A Siddiqui</td>\n",
       "      <td>2018-02-16 12:58:23+00:00</td>\n",
       "      <td>27</td>\n",
       "      <td>52</td>\n",
       "      <td>['looping', 'joel', 'thanks', 'and']</td>\n",
       "      <td>['looping joel.', 'thanks and']</td>\n",
       "      <td>[('looping', 'VBG'), ('joel', 'NN'), ('thanks'...</td>\n",
       "      <td>['joel', 'thanks']</td>\n",
       "      <td>[('looping', 'VBG'), ('joel', 'NN'), ('thanks'...</td>\n",
       "      <td>[('looping', 'VERB'), ('joel', 'NOUN'), ('than...</td>\n",
       "      <td>1.0</td>\n",
       "    </tr>\n",
       "  </tbody>\n",
       "</table>\n",
       "</div>"
      ],
      "text/plain": [
       "   Unnamed: 0  SrNo                                           Subject  \\\n",
       "0           0     0  RE: Rental laptops 5nos issued at TIS helpdesk.    \n",
       "1           1     1                       RE: Can Delhi be cancelled?   \n",
       "\n",
       "                                             Message  \\\n",
       "0  i've collected the 2 laptops. the laptop assig...   \n",
       "1  looping joel. \\r\\r\\r\\n\\r\\r\\r\\n \\r\\r\\r\\n\\r\\r\\r\\...   \n",
       "\n",
       "                                          Recipients             Sender  \\\n",
       "0  ['Rajat.Chaudhari@mastek.com', 'assetMGMT@mast...  Sujeetkumar Sinha   \n",
       "1  ['Pooja.Nagar@mastek.com', 'Rajat.Chaudhari@ma...  Faheem A Siddiqui   \n",
       "\n",
       "                        Time  SubLen  MsgLen  \\\n",
       "0  2018-02-16 13:55:46+00:00      48     277   \n",
       "1  2018-02-16 12:58:23+00:00      27      52   \n",
       "\n",
       "                                           MsgTokens  \\\n",
       "0  ['i', 'collected', 'the', 'laptops', 'the', 'l...   \n",
       "1               ['looping', 'joel', 'thanks', 'and']   \n",
       "\n",
       "                                   MsgSentenceTokens  \\\n",
       "0  [\"i've collected the 2 laptops.\", 'the laptop ...   \n",
       "1                    ['looping joel.', 'thanks and']   \n",
       "\n",
       "                                             POS_Msg  \\\n",
       "0  [('i', 'NN'), ('collected', 'VBD'), ('the', 'D...   \n",
       "1  [('looping', 'VBG'), ('joel', 'NN'), ('thanks'...   \n",
       "\n",
       "                                        POS_Msg_Noun  \\\n",
       "0  ['i', 'laptops', 'laptop', 'i', 'back', 'scree...   \n",
       "1                                 ['joel', 'thanks']   \n",
       "\n",
       "                                             Chunked  \\\n",
       "0  [('i', 'NN'), ('collected', 'VBD'), ('the', 'D...   \n",
       "1  [('looping', 'VBG'), ('joel', 'NN'), ('thanks'...   \n",
       "\n",
       "                                         POS_Msg_Uni  Sentiments  \n",
       "0  [('i', 'NOUN'), ('collected', 'VERB'), ('the',...         1.0  \n",
       "1  [('looping', 'VERB'), ('joel', 'NOUN'), ('than...         1.0  "
      ]
     },
     "execution_count": 178,
     "metadata": {},
     "output_type": "execute_result"
    }
   ],
   "source": [
    "mail.head(2)"
   ]
  },
  {
   "cell_type": "code",
   "execution_count": 240,
   "metadata": {},
   "outputs": [],
   "source": [
    "dataset={}\n",
    "for index,item in mail.iterrows():\n",
    "    #print(str(index)+\" \"+item[\"Subject\"])\n",
    "    key=item[\"SrNo\"]\n",
    "    value=str(item[\"Subject\"]).lower() + \" #*# \" + item[\"Message\"].lower().replace('\\r',\"\")\n",
    "    dataset[key]=value"
   ]
  },
  {
   "cell_type": "code",
   "execution_count": null,
   "metadata": {},
   "outputs": [],
   "source": []
  },
  {
   "cell_type": "code",
   "execution_count": 219,
   "metadata": {},
   "outputs": [],
   "source": [
    "def tf(data,filename):\n",
    "    text=data[0]\n",
    "    tokens=nltk.word_tokenize(text)\n",
    "    fd=nltk.FreqDist(tokens)\n",
    "    return fd"
   ]
  },
  {
   "cell_type": "code",
   "execution_count": 229,
   "metadata": {},
   "outputs": [],
   "source": [
    "def idf(data,term):\n",
    "    count=[term in data[mail_no] for mail_no in data]\n",
    "    inv_feq=math.log(len(count)/sum(count))\n",
    "    return inv_feq"
   ]
  },
  {
   "cell_type": "code",
   "execution_count": 222,
   "metadata": {},
   "outputs": [],
   "source": [
    "import math"
   ]
  },
  {
   "cell_type": "code",
   "execution_count": 242,
   "metadata": {},
   "outputs": [
    {
     "data": {
      "text/plain": [
       "1.285707124214722"
      ]
     },
     "execution_count": 242,
     "metadata": {},
     "output_type": "execute_result"
    }
   ],
   "source": [
    "idf(dataset,\"rajat\")"
   ]
  },
  {
   "cell_type": "code",
   "execution_count": 248,
   "metadata": {},
   "outputs": [],
   "source": [
    "def tfidf(data,srno,n):\n",
    "    term_scores={}\n",
    "    file_fd=tf(data,srno)\n",
    "    for term in file_fd:\n",
    "        if term.isalpha():\n",
    "            idf_val=idf(data,term)\n",
    "            tf_val=tf(data,srno)[term]\n",
    "            tfidf_val=tf_val*idf_val\n",
    "            term_scores[term]=round(tfidf_val,2)\n",
    "    return sorted(term_scores.items(),key=lambda x:-x[1])[:n]    "
   ]
  },
  {
   "cell_type": "code",
   "execution_count": 251,
   "metadata": {},
   "outputs": [
    {
     "data": {
      "text/plain": [
       "[('laptops', 9.91),\n",
       " ('scratched', 7.73),\n",
       " ('rental', 6.34),\n",
       " ('noticed', 5.93),\n",
       " ('spot', 5.33),\n",
       " ('collected', 5.24),\n",
       " ('wanted', 4.84),\n",
       " ('issued', 4.73),\n",
       " ('laptop', 4.47),\n",
       " ('highlight', 4.39),\n",
       " ('later', 4.39),\n",
       " ('helpdesk', 4.26),\n",
       " ('avoid', 4.23),\n",
       " ('fine', 4.06),\n",
       " ('however', 3.63),\n",
       " ('assigned', 3.51),\n",
       " ('issues', 3.41),\n",
       " ('screen', 3.4),\n",
       " ('tis', 3.34),\n",
       " ('pic', 3.27)]"
      ]
     },
     "execution_count": 251,
     "metadata": {},
     "output_type": "execute_result"
    }
   ],
   "source": [
    "tfidf(dataset,0,20)"
   ]
  },
  {
   "cell_type": "code",
   "execution_count": null,
   "metadata": {},
   "outputs": [],
   "source": []
  },
  {
   "cell_type": "code",
   "execution_count": null,
   "metadata": {},
   "outputs": [],
   "source": []
  }
 ],
 "metadata": {
  "kernelspec": {
   "display_name": "Python 3",
   "language": "python",
   "name": "python3"
  },
  "language_info": {
   "codemirror_mode": {
    "name": "ipython",
    "version": 3
   },
   "file_extension": ".py",
   "mimetype": "text/x-python",
   "name": "python",
   "nbconvert_exporter": "python",
   "pygments_lexer": "ipython3",
   "version": "3.6.4"
  }
 },
 "nbformat": 4,
 "nbformat_minor": 2
}
