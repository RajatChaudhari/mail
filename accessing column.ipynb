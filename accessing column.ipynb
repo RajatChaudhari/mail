{
 "cells": [
  {
   "cell_type": "code",
   "execution_count": 1,
   "metadata": {},
   "outputs": [],
   "source": [
    "import win32com.client\n",
    "import pandas as pd\n",
    "import numpy as np\n",
    "import matplotlib.pyplot as plt\n",
    "import seaborn as sns\n",
    "import scipy as sp\n",
    "import csv"
   ]
  },
  {
   "cell_type": "code",
   "execution_count": 2,
   "metadata": {},
   "outputs": [],
   "source": [
    "import nltk"
   ]
  },
  {
   "cell_type": "code",
   "execution_count": 4,
   "metadata": {},
   "outputs": [],
   "source": [
    "mail=pd.read_csv('Rajat_Chaudhari.csv')"
   ]
  },
  {
   "cell_type": "code",
   "execution_count": 7,
   "metadata": {},
   "outputs": [
    {
     "data": {
      "text/html": [
       "<div>\n",
       "<style scoped>\n",
       "    .dataframe tbody tr th:only-of-type {\n",
       "        vertical-align: middle;\n",
       "    }\n",
       "\n",
       "    .dataframe tbody tr th {\n",
       "        vertical-align: top;\n",
       "    }\n",
       "\n",
       "    .dataframe thead th {\n",
       "        text-align: right;\n",
       "    }\n",
       "</style>\n",
       "<table border=\"1\" class=\"dataframe\">\n",
       "  <thead>\n",
       "    <tr style=\"text-align: right;\">\n",
       "      <th></th>\n",
       "      <th>SrNo</th>\n",
       "      <th>Subject</th>\n",
       "      <th>Message</th>\n",
       "      <th>Recipients</th>\n",
       "      <th>Sender</th>\n",
       "      <th>Time</th>\n",
       "    </tr>\n",
       "  </thead>\n",
       "  <tbody>\n",
       "    <tr>\n",
       "      <th>0</th>\n",
       "      <td>0</td>\n",
       "      <td>RE: Rental laptops 5nos issued at TIS helpdesk.</td>\n",
       "      <td>I've collected the 2 laptops. The laptop assig...</td>\n",
       "      <td>['Rajat.Chaudhari@mastek.com', 'assetMGMT@mast...</td>\n",
       "      <td>Sujeetkumar Sinha</td>\n",
       "      <td>2018-02-16 13:55:46+00:00</td>\n",
       "    </tr>\n",
       "    <tr>\n",
       "      <th>1</th>\n",
       "      <td>1</td>\n",
       "      <td>RE: Can Delhi be cancelled?</td>\n",
       "      <td>Looping Joel. \\r\\r\\n\\r\\r\\n \\r\\r\\n\\r\\r\\n \\r\\r\\n...</td>\n",
       "      <td>['Pooja.Nagar@mastek.com', 'Rajat.Chaudhari@ma...</td>\n",
       "      <td>Faheem A Siddiqui</td>\n",
       "      <td>2018-02-16 12:58:23+00:00</td>\n",
       "    </tr>\n",
       "    <tr>\n",
       "      <th>2</th>\n",
       "      <td>2</td>\n",
       "      <td>RE: Can Delhi be cancelled?</td>\n",
       "      <td>Looping Faheem and Girish to assist you.\\r\\r\\n...</td>\n",
       "      <td>['Rajat.Chaudhari@mastek.com', 'Girish.Kulkarn...</td>\n",
       "      <td>Pooja V Nagar</td>\n",
       "      <td>2018-02-16 12:39:23+00:00</td>\n",
       "    </tr>\n",
       "    <tr>\n",
       "      <th>3</th>\n",
       "      <td>3</td>\n",
       "      <td>Re: Have you got your laptops? &lt;EOM&gt;</td>\n",
       "      <td>Ask them to create local user and give admin r...</td>\n",
       "      <td>['Rajat.Chaudhari@mastek.com']</td>\n",
       "      <td>Vijay Lugade</td>\n",
       "      <td>2018-02-16 09:29:48+00:00</td>\n",
       "    </tr>\n",
       "    <tr>\n",
       "      <th>4</th>\n",
       "      <td>4</td>\n",
       "      <td>RE: Rental laptops 5nos issued at TIS helpdesk.</td>\n",
       "      <td>Hi Team,\\r\\r\\n\\r\\r\\n \\r\\r\\n\\r\\r\\nPlease collec...</td>\n",
       "      <td>['Rajat.Chaudhari@mastek.com', 'Sujeetkumar.Si...</td>\n",
       "      <td>AssetMGMT</td>\n",
       "      <td>2018-02-16 09:25:41+00:00</td>\n",
       "    </tr>\n",
       "  </tbody>\n",
       "</table>\n",
       "</div>"
      ],
      "text/plain": [
       "   SrNo                                           Subject  \\\n",
       "0     0  RE: Rental laptops 5nos issued at TIS helpdesk.    \n",
       "1     1                       RE: Can Delhi be cancelled?   \n",
       "2     2                       RE: Can Delhi be cancelled?   \n",
       "3     3              Re: Have you got your laptops? <EOM>   \n",
       "4     4  RE: Rental laptops 5nos issued at TIS helpdesk.    \n",
       "\n",
       "                                             Message  \\\n",
       "0  I've collected the 2 laptops. The laptop assig...   \n",
       "1  Looping Joel. \\r\\r\\n\\r\\r\\n \\r\\r\\n\\r\\r\\n \\r\\r\\n...   \n",
       "2  Looping Faheem and Girish to assist you.\\r\\r\\n...   \n",
       "3  Ask them to create local user and give admin r...   \n",
       "4  Hi Team,\\r\\r\\n\\r\\r\\n \\r\\r\\n\\r\\r\\nPlease collec...   \n",
       "\n",
       "                                          Recipients             Sender  \\\n",
       "0  ['Rajat.Chaudhari@mastek.com', 'assetMGMT@mast...  Sujeetkumar Sinha   \n",
       "1  ['Pooja.Nagar@mastek.com', 'Rajat.Chaudhari@ma...  Faheem A Siddiqui   \n",
       "2  ['Rajat.Chaudhari@mastek.com', 'Girish.Kulkarn...      Pooja V Nagar   \n",
       "3                     ['Rajat.Chaudhari@mastek.com']       Vijay Lugade   \n",
       "4  ['Rajat.Chaudhari@mastek.com', 'Sujeetkumar.Si...          AssetMGMT   \n",
       "\n",
       "                        Time  \n",
       "0  2018-02-16 13:55:46+00:00  \n",
       "1  2018-02-16 12:58:23+00:00  \n",
       "2  2018-02-16 12:39:23+00:00  \n",
       "3  2018-02-16 09:29:48+00:00  \n",
       "4  2018-02-16 09:25:41+00:00  "
      ]
     },
     "execution_count": 7,
     "metadata": {},
     "output_type": "execute_result"
    }
   ],
   "source": [
    "mail.head()"
   ]
  },
  {
   "cell_type": "code",
   "execution_count": 6,
   "metadata": {},
   "outputs": [],
   "source": [
    "mail=mail.rename(columns = {'Unnamed: 0':'SrNo'})"
   ]
  },
  {
   "cell_type": "code",
   "execution_count": 38,
   "metadata": {},
   "outputs": [],
   "source": [
    "df = pd.DataFrame(np.random.randn(4,3),columns = ['col1','col2','col3'])\n"
   ]
  },
  {
   "cell_type": "code",
   "execution_count": 28,
   "metadata": {},
   "outputs": [],
   "source": [
    "df['Index']=df.set_index"
   ]
  },
  {
   "cell_type": "code",
   "execution_count": 52,
   "metadata": {},
   "outputs": [
    {
     "name": "stdout",
     "output_type": "stream",
     "text": [
      "yes\n",
      "[]\n",
      "[]\n",
      "[]\n"
     ]
    }
   ],
   "source": [
    "for row_index,row in df.iterrows():\n",
    "    if row['col1']==1.7142448831132153:\n",
    "        print ('yes')\n",
    "    else:\n",
    "        #print(row['col1'])\n",
    "        print(row.index[row['col1']==1.7142448831132153])\n",
    "        "
   ]
  },
  {
   "cell_type": "code",
   "execution_count": 53,
   "metadata": {},
   "outputs": [
    {
     "name": "stdout",
     "output_type": "stream",
     "text": [
      "0   -1.259992\n",
      "Name: col2, dtype: float64\n"
     ]
    }
   ],
   "source": [
    "print(df['col2'][df['col1']==1.7142448831132153])"
   ]
  },
  {
   "cell_type": "code",
   "execution_count": 41,
   "metadata": {},
   "outputs": [
    {
     "data": {
      "text/html": [
       "<div>\n",
       "<style scoped>\n",
       "    .dataframe tbody tr th:only-of-type {\n",
       "        vertical-align: middle;\n",
       "    }\n",
       "\n",
       "    .dataframe tbody tr th {\n",
       "        vertical-align: top;\n",
       "    }\n",
       "\n",
       "    .dataframe thead th {\n",
       "        text-align: right;\n",
       "    }\n",
       "</style>\n",
       "<table border=\"1\" class=\"dataframe\">\n",
       "  <thead>\n",
       "    <tr style=\"text-align: right;\">\n",
       "      <th></th>\n",
       "      <th>col1</th>\n",
       "      <th>col2</th>\n",
       "      <th>col3</th>\n",
       "    </tr>\n",
       "  </thead>\n",
       "  <tbody>\n",
       "    <tr>\n",
       "      <th>0</th>\n",
       "      <td>1.714245</td>\n",
       "      <td>-1.259992</td>\n",
       "      <td>1.287803</td>\n",
       "    </tr>\n",
       "    <tr>\n",
       "      <th>1</th>\n",
       "      <td>0.470119</td>\n",
       "      <td>0.080521</td>\n",
       "      <td>-2.845761</td>\n",
       "    </tr>\n",
       "    <tr>\n",
       "      <th>2</th>\n",
       "      <td>-0.478035</td>\n",
       "      <td>-0.675842</td>\n",
       "      <td>0.614558</td>\n",
       "    </tr>\n",
       "    <tr>\n",
       "      <th>3</th>\n",
       "      <td>-0.370072</td>\n",
       "      <td>0.263284</td>\n",
       "      <td>0.279142</td>\n",
       "    </tr>\n",
       "  </tbody>\n",
       "</table>\n",
       "</div>"
      ],
      "text/plain": [
       "       col1      col2      col3\n",
       "0  1.714245 -1.259992  1.287803\n",
       "1  0.470119  0.080521 -2.845761\n",
       "2 -0.478035 -0.675842  0.614558\n",
       "3 -0.370072  0.263284  0.279142"
      ]
     },
     "execution_count": 41,
     "metadata": {},
     "output_type": "execute_result"
    }
   ],
   "source": [
    "df"
   ]
  },
  {
   "cell_type": "code",
   "execution_count": null,
   "metadata": {},
   "outputs": [],
   "source": []
  }
 ],
 "metadata": {
  "kernelspec": {
   "display_name": "Python 3",
   "language": "python",
   "name": "python3"
  },
  "language_info": {
   "codemirror_mode": {
    "name": "ipython",
    "version": 3
   },
   "file_extension": ".py",
   "mimetype": "text/x-python",
   "name": "python",
   "nbconvert_exporter": "python",
   "pygments_lexer": "ipython3",
   "version": "3.6.4"
  }
 },
 "nbformat": 4,
 "nbformat_minor": 2
}
